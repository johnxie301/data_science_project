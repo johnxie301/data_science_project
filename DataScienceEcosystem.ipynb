{
 "cells": [
  {
   "cell_type": "markdown",
   "id": "423064b3-3b8f-44d2-802f-7ab832ea7df4",
   "metadata": {
    "tags": []
   },
   "source": [
    "# Data Science Tools and Ecosystem"
   ]
  },
  {
   "cell_type": "markdown",
   "id": "5ed970e2-c634-4b3c-9b48-ebf4a36baa19",
   "metadata": {},
   "source": [
    "In this notebook, Data Science Tools and Ecosystem are summarized."
   ]
  },
  {
   "cell_type": "markdown",
   "id": "c53acffc-2e9d-42ec-8088-165536f8014b",
   "metadata": {},
   "source": [
    "Some of the popular languages that Data Scientists use are:\n",
    "<ol>\n",
    "<li> python </li>\n",
    "<li> R </li>\n",
    "<li> Java </li>\n",
    "</ol>"
   ]
  },
  {
   "cell_type": "markdown",
   "id": "a5a4c9a3-a9bd-49ca-8302-c33f73f3f5f4",
   "metadata": {},
   "source": [
    "Some of the commonly used libraries used by Data Scientists include:\n",
    "<ol>\n",
    "<li> Panadas </li>\n",
    "<li> Matplotlib </li>\n",
    "<li> Pytorch</li>\n",
    "</ol>"
   ]
  },
  {
   "cell_type": "markdown",
   "id": "30e321bd-a468-41d8-9986-da3b427c9424",
   "metadata": {},
   "source": [
    "| Data Science Tools |\n",
    "| ------------------ |\n",
    "|Apache Spark|\n",
    "|Julia|\n",
    "|Jupyter Notebook|"
   ]
  },
  {
   "cell_type": "markdown",
   "id": "e18e8fea-51fe-4a9f-bdd3-877e8ba7b948",
   "metadata": {},
   "source": [
    "### Below are a few examples of evaluating arithmetic expressions in Python"
   ]
  },
  {
   "cell_type": "code",
   "execution_count": 3,
   "id": "c99380d4-a869-4b1c-bb3d-51aa04b1539a",
   "metadata": {
    "tags": []
   },
   "outputs": [
    {
     "data": {
      "text/plain": [
       "17"
      ]
     },
     "execution_count": 3,
     "metadata": {},
     "output_type": "execute_result"
    }
   ],
   "source": [
    "# This a simple arithmetic expression to mutiply then add integers\n",
    "(3*4)+5"
   ]
  },
  {
   "cell_type": "code",
   "execution_count": 9,
   "id": "b195fff0-effe-4f13-984f-21b4bd53207a",
   "metadata": {
    "tags": []
   },
   "outputs": [
    {
     "name": "stdout",
     "output_type": "stream",
     "text": [
      "200 minutes is equal to 3 hours and 20 minutes.\n"
     ]
    }
   ],
   "source": [
    "# This will convert 200 minutes to hours by diving by 60.\n",
    "a = 200\n",
    "b = a // 60\n",
    "c = a % 60 \n",
    "print(str(a) + \" minutes is equal to \" + str(b) + \" hours and \" + str(c) + \" minutes.\")"
   ]
  },
  {
   "cell_type": "markdown",
   "id": "e2752692-6ca1-431a-91fd-b9192ca4856f",
   "metadata": {},
   "source": [
    "Objectives:\n",
    "    <ul>\n",
    "    <li> List popular languages for Data Science </li>\n",
    "    <li> List popular libraries for Data Science</li>\n",
    "    <li> List popular Data Science tools for Data Science</li>\n",
    "    </ul>"
   ]
  },
  {
   "cell_type": "markdown",
   "id": "ecda4c10-be5a-4245-83b4-b7203c06b3b5",
   "metadata": {},
   "source": [
    "## Auther\n",
    "Zhengke Xie"
   ]
  },
  {
   "cell_type": "code",
   "execution_count": null,
   "id": "55e736cf-b652-4ae0-9ae5-62158562292d",
   "metadata": {},
   "outputs": [],
   "source": []
  }
 ],
 "metadata": {
  "kernelspec": {
   "display_name": "Python",
   "language": "python",
   "name": "conda-env-python-py"
  },
  "language_info": {
   "codemirror_mode": {
    "name": "ipython",
    "version": 3
   },
   "file_extension": ".py",
   "mimetype": "text/x-python",
   "name": "python",
   "nbconvert_exporter": "python",
   "pygments_lexer": "ipython3",
   "version": "3.7.12"
  }
 },
 "nbformat": 4,
 "nbformat_minor": 5
}
